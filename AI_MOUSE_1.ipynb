{
 "cells": [
  {
   "cell_type": "code",
   "execution_count": 1,
   "id": "0043ea68-fe9d-4f21-9472-c7e74ada9226",
   "metadata": {},
   "outputs": [
    {
     "name": "stdout",
     "output_type": "stream",
     "text": [
      "Requirement already satisfied: opencv-python in c:\\users\\hp\\anaconda3\\lib\\site-packages (4.11.0.86)\n",
      "Requirement already satisfied: numpy>=1.21.2 in c:\\users\\hp\\anaconda3\\lib\\site-packages (from opencv-python) (1.26.4)\n",
      "Note: you may need to restart the kernel to use updated packages.\n"
     ]
    }
   ],
   "source": [
    "%pip install --upgrade opencv-python\n"
   ]
  },
  {
   "cell_type": "code",
   "execution_count": 2,
   "id": "27b43920-7ab0-4adf-b516-61588d7d27de",
   "metadata": {},
   "outputs": [
    {
     "name": "stdout",
     "output_type": "stream",
     "text": [
      "Requirement already satisfied: mediapipe in c:\\users\\hp\\anaconda3\\lib\\site-packages (0.10.20)\n",
      "Requirement already satisfied: absl-py in c:\\users\\hp\\anaconda3\\lib\\site-packages (from mediapipe) (2.1.0)\n",
      "Requirement already satisfied: attrs>=19.1.0 in c:\\users\\hp\\anaconda3\\lib\\site-packages (from mediapipe) (24.3.0)\n",
      "Requirement already satisfied: flatbuffers>=2.0 in c:\\users\\hp\\anaconda3\\lib\\site-packages (from mediapipe) (24.12.23)\n",
      "Requirement already satisfied: jax in c:\\users\\hp\\anaconda3\\lib\\site-packages (from mediapipe) (0.5.0)\n",
      "Requirement already satisfied: jaxlib in c:\\users\\hp\\anaconda3\\lib\\site-packages (from mediapipe) (0.5.0)\n",
      "Requirement already satisfied: matplotlib in c:\\users\\hp\\anaconda3\\lib\\site-packages (from mediapipe) (3.10.0)\n",
      "Requirement already satisfied: numpy<2 in c:\\users\\hp\\anaconda3\\lib\\site-packages (from mediapipe) (1.26.4)\n",
      "Requirement already satisfied: opencv-contrib-python in c:\\users\\hp\\anaconda3\\lib\\site-packages (from mediapipe) (4.11.0.86)\n",
      "Requirement already satisfied: protobuf<5,>=4.25.3 in c:\\users\\hp\\anaconda3\\lib\\site-packages (from mediapipe) (4.25.5)\n",
      "Requirement already satisfied: sounddevice>=0.4.4 in c:\\users\\hp\\anaconda3\\lib\\site-packages (from mediapipe) (0.5.1)\n",
      "Requirement already satisfied: sentencepiece in c:\\users\\hp\\anaconda3\\lib\\site-packages (from mediapipe) (0.2.0)\n",
      "Requirement already satisfied: CFFI>=1.0 in c:\\users\\hp\\anaconda3\\lib\\site-packages (from sounddevice>=0.4.4->mediapipe) (1.17.1)\n",
      "Requirement already satisfied: ml_dtypes>=0.4.0 in c:\\users\\hp\\anaconda3\\lib\\site-packages (from jax->mediapipe) (0.4.0)\n",
      "Requirement already satisfied: opt_einsum in c:\\users\\hp\\anaconda3\\lib\\site-packages (from jax->mediapipe) (3.4.0)\n",
      "Requirement already satisfied: scipy>=1.11.1 in c:\\users\\hp\\anaconda3\\lib\\site-packages (from jax->mediapipe) (1.15.1)\n",
      "Requirement already satisfied: contourpy>=1.0.1 in c:\\users\\hp\\anaconda3\\lib\\site-packages (from matplotlib->mediapipe) (1.3.1)\n",
      "Requirement already satisfied: cycler>=0.10 in c:\\users\\hp\\anaconda3\\lib\\site-packages (from matplotlib->mediapipe) (0.12.1)\n",
      "Requirement already satisfied: fonttools>=4.22.0 in c:\\users\\hp\\anaconda3\\lib\\site-packages (from matplotlib->mediapipe) (4.55.3)\n",
      "Requirement already satisfied: kiwisolver>=1.3.1 in c:\\users\\hp\\anaconda3\\lib\\site-packages (from matplotlib->mediapipe) (1.4.8)\n",
      "Requirement already satisfied: packaging>=20.0 in c:\\users\\hp\\anaconda3\\lib\\site-packages (from matplotlib->mediapipe) (23.0)\n",
      "Requirement already satisfied: pillow>=8 in c:\\users\\hp\\anaconda3\\lib\\site-packages (from matplotlib->mediapipe) (10.0.0)\n",
      "Requirement already satisfied: pyparsing>=2.3.1 in c:\\users\\hp\\anaconda3\\lib\\site-packages (from matplotlib->mediapipe) (3.2.0)\n",
      "Requirement already satisfied: python-dateutil>=2.7 in c:\\users\\hp\\anaconda3\\lib\\site-packages (from matplotlib->mediapipe) (2.9.0.post0)\n",
      "Requirement already satisfied: pycparser in c:\\users\\hp\\anaconda3\\lib\\site-packages (from CFFI>=1.0->sounddevice>=0.4.4->mediapipe) (2.22)\n",
      "Requirement already satisfied: six>=1.5 in c:\\users\\hp\\anaconda3\\lib\\site-packages (from python-dateutil>=2.7->matplotlib->mediapipe) (1.17.0)\n",
      "Note: you may need to restart the kernel to use updated packages.\n"
     ]
    }
   ],
   "source": [
    "%pip install mediapipe\n"
   ]
  },
  {
   "cell_type": "code",
   "execution_count": 3,
   "id": "24ce1250-51e8-444f-b3f7-70ecd2646d37",
   "metadata": {},
   "outputs": [
    {
     "name": "stdout",
     "output_type": "stream",
     "text": [
      "Requirement already satisfied: pyautogui in c:\\users\\hp\\anaconda3\\lib\\site-packages (0.9.54)\n",
      "Requirement already satisfied: pymsgbox in c:\\users\\hp\\anaconda3\\lib\\site-packages (from pyautogui) (1.0.9)\n",
      "Requirement already satisfied: pytweening>=1.0.4 in c:\\users\\hp\\anaconda3\\lib\\site-packages (from pyautogui) (1.2.0)\n",
      "Requirement already satisfied: pyscreeze>=0.1.21 in c:\\users\\hp\\anaconda3\\lib\\site-packages (from pyautogui) (1.0.1)\n",
      "Requirement already satisfied: pygetwindow>=0.0.5 in c:\\users\\hp\\anaconda3\\lib\\site-packages (from pyautogui) (0.0.9)\n",
      "Requirement already satisfied: mouseinfo in c:\\users\\hp\\anaconda3\\lib\\site-packages (from pyautogui) (0.1.3)\n",
      "Requirement already satisfied: pyrect in c:\\users\\hp\\anaconda3\\lib\\site-packages (from pygetwindow>=0.0.5->pyautogui) (0.2.0)\n",
      "Requirement already satisfied: pyperclip in c:\\users\\hp\\anaconda3\\lib\\site-packages (from mouseinfo->pyautogui) (1.9.0)\n",
      "Note: you may need to restart the kernel to use updated packages.\n"
     ]
    }
   ],
   "source": [
    "%pip install pyautogui\n"
   ]
  },
  {
   "cell_type": "code",
   "execution_count": 4,
   "id": "bcaa690c-1aea-4a04-b185-3d613657ab23",
   "metadata": {},
   "outputs": [
    {
     "name": "stdout",
     "output_type": "stream",
     "text": [
      "Size(width=1920, height=1080)\n"
     ]
    }
   ],
   "source": [
    "import pyautogui\n",
    "print(pyautogui.size())  # Gets screen resolution\n"
   ]
  },
  {
   "cell_type": "raw",
   "id": "8b350b17-161e-4f89-ab1e-aff515705143",
   "metadata": {
    "scrolled": true
   },
   "source": [
    "pip install handtrackingmodule"
   ]
  },
  {
   "cell_type": "code",
   "execution_count": 5,
   "id": "ffa17331-5543-489d-be52-f5d491a5a040",
   "metadata": {},
   "outputs": [
    {
     "name": "stdout",
     "output_type": "stream",
     "text": [
      "Requirement already satisfied: opencv-contrib-python in c:\\users\\hp\\anaconda3\\lib\\site-packages (4.11.0.86)\n",
      "Requirement already satisfied: numpy>=1.21.2 in c:\\users\\hp\\anaconda3\\lib\\site-packages (from opencv-contrib-python) (1.26.4)\n",
      "Note: you may need to restart the kernel to use updated packages.\n"
     ]
    }
   ],
   "source": [
    "pip install opencv-contrib-python"
   ]
  },
  {
   "cell_type": "code",
   "execution_count": 6,
   "id": "983ff094-f8d5-4619-b3b9-5c39389df176",
   "metadata": {},
   "outputs": [
    {
     "name": "stdout",
     "output_type": "stream",
     "text": [
      "Requirement already satisfied: handtrackingmodule in c:\\users\\hp\\anaconda3\\lib\\site-packages (0.2)\n",
      "Requirement already satisfied: mediapipe in c:\\users\\hp\\anaconda3\\lib\\site-packages (from handtrackingmodule) (0.10.20)\n",
      "Requirement already satisfied: numpy in c:\\users\\hp\\anaconda3\\lib\\site-packages (from handtrackingmodule) (1.26.4)\n",
      "Requirement already satisfied: opencv-python in c:\\users\\hp\\anaconda3\\lib\\site-packages (from handtrackingmodule) (4.11.0.86)\n",
      "Requirement already satisfied: absl-py in c:\\users\\hp\\anaconda3\\lib\\site-packages (from mediapipe->handtrackingmodule) (2.1.0)\n",
      "Requirement already satisfied: attrs>=19.1.0 in c:\\users\\hp\\anaconda3\\lib\\site-packages (from mediapipe->handtrackingmodule) (24.3.0)\n",
      "Requirement already satisfied: flatbuffers>=2.0 in c:\\users\\hp\\anaconda3\\lib\\site-packages (from mediapipe->handtrackingmodule) (24.12.23)\n",
      "Requirement already satisfied: jax in c:\\users\\hp\\anaconda3\\lib\\site-packages (from mediapipe->handtrackingmodule) (0.5.0)\n",
      "Requirement already satisfied: jaxlib in c:\\users\\hp\\anaconda3\\lib\\site-packages (from mediapipe->handtrackingmodule) (0.5.0)\n",
      "Requirement already satisfied: matplotlib in c:\\users\\hp\\anaconda3\\lib\\site-packages (from mediapipe->handtrackingmodule) (3.10.0)\n",
      "Requirement already satisfied: opencv-contrib-python in c:\\users\\hp\\anaconda3\\lib\\site-packages (from mediapipe->handtrackingmodule) (4.11.0.86)\n",
      "Requirement already satisfied: protobuf<5,>=4.25.3 in c:\\users\\hp\\anaconda3\\lib\\site-packages (from mediapipe->handtrackingmodule) (4.25.5)\n",
      "Requirement already satisfied: sounddevice>=0.4.4 in c:\\users\\hp\\anaconda3\\lib\\site-packages (from mediapipe->handtrackingmodule) (0.5.1)\n",
      "Requirement already satisfied: sentencepiece in c:\\users\\hp\\anaconda3\\lib\\site-packages (from mediapipe->handtrackingmodule) (0.2.0)\n",
      "Requirement already satisfied: CFFI>=1.0 in c:\\users\\hp\\anaconda3\\lib\\site-packages (from sounddevice>=0.4.4->mediapipe->handtrackingmodule) (1.17.1)\n",
      "Requirement already satisfied: ml_dtypes>=0.4.0 in c:\\users\\hp\\anaconda3\\lib\\site-packages (from jax->mediapipe->handtrackingmodule) (0.4.0)\n",
      "Requirement already satisfied: opt_einsum in c:\\users\\hp\\anaconda3\\lib\\site-packages (from jax->mediapipe->handtrackingmodule) (3.4.0)\n",
      "Requirement already satisfied: scipy>=1.11.1 in c:\\users\\hp\\anaconda3\\lib\\site-packages (from jax->mediapipe->handtrackingmodule) (1.15.1)\n",
      "Requirement already satisfied: contourpy>=1.0.1 in c:\\users\\hp\\anaconda3\\lib\\site-packages (from matplotlib->mediapipe->handtrackingmodule) (1.3.1)\n",
      "Requirement already satisfied: cycler>=0.10 in c:\\users\\hp\\anaconda3\\lib\\site-packages (from matplotlib->mediapipe->handtrackingmodule) (0.12.1)\n",
      "Requirement already satisfied: fonttools>=4.22.0 in c:\\users\\hp\\anaconda3\\lib\\site-packages (from matplotlib->mediapipe->handtrackingmodule) (4.55.3)\n",
      "Requirement already satisfied: kiwisolver>=1.3.1 in c:\\users\\hp\\anaconda3\\lib\\site-packages (from matplotlib->mediapipe->handtrackingmodule) (1.4.8)\n",
      "Requirement already satisfied: packaging>=20.0 in c:\\users\\hp\\anaconda3\\lib\\site-packages (from matplotlib->mediapipe->handtrackingmodule) (23.0)\n",
      "Requirement already satisfied: pillow>=8 in c:\\users\\hp\\anaconda3\\lib\\site-packages (from matplotlib->mediapipe->handtrackingmodule) (10.0.0)\n",
      "Requirement already satisfied: pyparsing>=2.3.1 in c:\\users\\hp\\anaconda3\\lib\\site-packages (from matplotlib->mediapipe->handtrackingmodule) (3.2.0)\n",
      "Requirement already satisfied: python-dateutil>=2.7 in c:\\users\\hp\\anaconda3\\lib\\site-packages (from matplotlib->mediapipe->handtrackingmodule) (2.9.0.post0)\n",
      "Requirement already satisfied: pycparser in c:\\users\\hp\\anaconda3\\lib\\site-packages (from CFFI>=1.0->sounddevice>=0.4.4->mediapipe->handtrackingmodule) (2.22)\n",
      "Requirement already satisfied: six>=1.5 in c:\\users\\hp\\anaconda3\\lib\\site-packages (from python-dateutil>=2.7->matplotlib->mediapipe->handtrackingmodule) (1.17.0)\n",
      "Note: you may need to restart the kernel to use updated packages.\n"
     ]
    }
   ],
   "source": [
    "pip install handtrackingmodule"
   ]
  },
  {
   "cell_type": "raw",
   "id": "b1ebc051-3895-4a6c-975c-4d2ac5127089",
   "metadata": {},
   "source": [
    "import cv2\n",
    "import numpy as np\n",
    "import HandTrackingModule as htm\n",
    "import time \n",
    "import pyautogui"
   ]
  },
  {
   "cell_type": "raw",
   "id": "1e2383b0-b736-4e7e-9400-25d58e4fd4a0",
   "metadata": {},
   "source": [
    "import cv2\n",
    "import mediapipe as mp\n",
    "import time\n",
    "\n",
    "# Initialize MediaPipe hands module\n",
    "mp_hands = mp.solutions.hands\n",
    "hands = mp_hands.Hands(max_num_hands=1)\n",
    "mp_draw = mp.solutions.drawing_utils\n",
    "\n",
    "# Set up webcam\n",
    "cap = cv2.VideoCapture(0)\n",
    "\n",
    "# Variables to calculate FPS\n",
    "pTime = 0  # Previous time\n",
    "\n",
    "while True:\n",
    "    success, img = cap.read()\n",
    "    if not success:\n",
    "        break\n",
    "\n",
    "    # Convert the image to RGB for MediaPipe\n",
    "    img_rgb = cv2.cvtColor(img, cv2.COLOR_BGR2RGB)\n",
    "\n",
    "    # Process the image to detect hands\n",
    "    results = hands.process(img_rgb)\n",
    "\n",
    "    # Draw hand landmarks\n",
    "    if results.multi_hand_landmarks:\n",
    "        for hand_landmarks in results.multi_hand_landmarks:\n",
    "            mp_draw.draw_landmarks(img, hand_landmarks, mp_hands.HAND_CONNECTIONS)\n",
    "\n",
    "    # Calculate FPS\n",
    "    cTime = time.time()  # Current time\n",
    "    fps = 1 / (cTime - pTime)  # FPS calculation\n",
    "    pTime = cTime  # Update previous time\n",
    "\n",
    "    # Display FPS on the image\n",
    "    cv2.putText(img, f'FPS: {int(fps)}', (10, 50), cv2.FONT_HERSHEY_PLAIN, 3, (255, 0, 0), 3)\n",
    "\n",
    "    # Show the image with hand landmarks and FPS\n",
    "    cv2.imshow(\"Hand Tracking\", img)\n",
    "\n",
    "    # Exit the loop if 'q' is pressed\n",
    "    if cv2.waitKey(1) & 0xFF == ord('q'):\n",
    "        break\n",
    "\n",
    "cap.release()\n",
    "cv2.destroyAllWindows()\n"
   ]
  },
  {
   "cell_type": "code",
   "execution_count": null,
   "id": "0e8162be-73cc-4db0-bf88-4e736fc5761b",
   "metadata": {},
   "outputs": [],
   "source": [
    "import cv2\n",
    "import mediapipe as mp\n",
    "import pyautogui\n",
    "import time\n",
    "import numpy as np\n",
    "\n",
    "# Initialize MediaPipe hands module\n",
    "mp_hands = mp.solutions.hands\n",
    "hands = mp_hands.Hands(max_num_hands=1, min_detection_confidence=0.7)\n",
    "mp_draw = mp.solutions.drawing_utils\n",
    "\n",
    "# Set up webcam\n",
    "cap = cv2.VideoCapture(0)\n",
    "\n",
    "# Variables to calculate FPS\n",
    "pTime = 0\n",
    "\n",
    "# Screen dimensions\n",
    "screen_width, screen_height = pyautogui.size()\n",
    "\n",
    "# Gesture control variables\n",
    "gesture_threshold = 50  # Distance threshold for gesture detection\n",
    "finger_states = [False] * 5  # State of each finger (open or closed)\n",
    "\n",
    "# Main loop\n",
    "while True:\n",
    "    success, img = cap.read()\n",
    "    if not success:\n",
    "        break\n",
    "\n",
    "    # Flip the image horizontally for natural interaction\n",
    "    img = cv2.flip(img, 1)\n",
    "    img_rgb = cv2.cvtColor(img, cv2.COLOR_BGR2RGB)\n",
    "\n",
    "    # Process the image to detect hands\n",
    "    results = hands.process(img_rgb)\n",
    "\n",
    "    if results.multi_hand_landmarks:\n",
    "        for hand_landmarks in results.multi_hand_landmarks:\n",
    "            mp_draw.draw_landmarks(img, hand_landmarks, mp_hands.HAND_CONNECTIONS)\n",
    "\n",
    "            # Extracting landmarks\n",
    "            landmarks = hand_landmarks.landmark\n",
    "\n",
    "            # Calculate the bounding box of the hand\n",
    "            h, w, _ = img.shape\n",
    "            x_min, y_min = w, h\n",
    "            x_max, y_max = 0, 0\n",
    "\n",
    "            for id, lm in enumerate(landmarks):\n",
    "                cx, cy = int(lm.x * w), int(lm.y * h)\n",
    "                x_min, y_min = min(x_min, cx), min(y_min, cy)\n",
    "                x_max, y_max = max(x_max, cx), max(y_max, cy)\n",
    "\n",
    "                # Mark each landmark with a circle (optional for debugging)\n",
    "                cv2.circle(img, (cx, cy), 5, (0, 255, 0), cv2.FILLED)\n",
    "\n",
    "            # Check if index finger is up\n",
    "            if landmarks[8].y < landmarks[6].y:  # Tip above PIP joint\n",
    "                finger_states[1] = True\n",
    "            else:\n",
    "                finger_states[1] = False\n",
    "\n",
    "            # Check if thumb is up\n",
    "            if landmarks[4].x < landmarks[3].x:  # Tip left of IP joint (for right hand)\n",
    "                finger_states[0] = True\n",
    "            else:\n",
    "                finger_states[0] = False\n",
    "\n",
    "            # Move mouse pointer with index finger\n",
    "            if finger_states[1] and not any(finger_states[2:]):  # Only index finger up\n",
    "                # Map hand coordinates to screen coordinates\n",
    "                x = np.interp(landmarks[8].x, [0, 1], [0, screen_width])\n",
    "                y = np.interp(landmarks[8].y, [0, 1], [0, screen_height])\n",
    "                pyautogui.moveTo(x, y)\n",
    "\n",
    "            # Left click gesture (thumb and index finger together)\n",
    "            if finger_states[0] and finger_states[1]:\n",
    "                thumb_tip = landmarks[4]\n",
    "                index_tip = landmarks[8]\n",
    "                distance = ((thumb_tip.x - index_tip.x) ** 2 + (thumb_tip.y - index_tip.y) ** 2) ** 0.5\n",
    "                if distance < gesture_threshold:  # Check if tips are close\n",
    "                    pyautogui.click()\n",
    "                    time.sleep(0.2)  # Avoid multiple clicks\n",
    "\n",
    "            # Right click gesture (thumb and pinky finger together)\n",
    "            if finger_states[0] and landmarks[20].x < landmarks[19].x:  # Pinky near thumb\n",
    "                pyautogui.rightClick()\n",
    "                time.sleep(0.2)\n",
    "\n",
    "    # Calculate FPS\n",
    "    cTime = time.time()\n",
    "    fps = 1 / (cTime - pTime)\n",
    "    pTime = cTime\n",
    "    cv2.putText(img, f'FPS: {int(fps)}', (10, 50), cv2.FONT_HERSHEY_PLAIN, 3, (255, 0, 0), 3)\n",
    "\n",
    "    # Show the image with hand landmarks and FPS\n",
    "    cv2.imshow(\"Hand Tracking\", img)\n",
    "\n",
    "    # Exit the loop if 'q' is pressed\n",
    "    if cv2.waitKey(1) & 0xFF == ord('q'):\n",
    "        break\n",
    "\n",
    "cap.release()\n",
    "cv2.destroyAllWindows()\n"
   ]
  },
  {
   "cell_type": "code",
   "execution_count": null,
   "id": "a2c0b553-5df7-47fa-8625-c1bf56d3d8c8",
   "metadata": {},
   "outputs": [],
   "source": []
  }
 ],
 "metadata": {
  "kernelspec": {
   "display_name": "Python [conda env:base] *",
   "language": "python",
   "name": "conda-base-py"
  },
  "language_info": {
   "codemirror_mode": {
    "name": "ipython",
    "version": 3
   },
   "file_extension": ".py",
   "mimetype": "text/x-python",
   "name": "python",
   "nbconvert_exporter": "python",
   "pygments_lexer": "ipython3",
   "version": "3.12.4"
  }
 },
 "nbformat": 4,
 "nbformat_minor": 5
}
